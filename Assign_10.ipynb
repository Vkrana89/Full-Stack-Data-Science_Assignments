{
 "cells": [
  {
   "cell_type": "markdown",
   "id": "3eb53d1d",
   "metadata": {},
   "source": [
    "1. How do you distinguish between shutil.copy() and shutil.copytree()?\n",
    "The shutil.copy() function is used to copy a single file from one location to another. It takes two arguments: the source file path and the destination file path. If the destination file already exists, it will be overwritten.\n",
    "On the other hand, the shutil.copytree() function is used to recursively copy an entire directory tree from one location to another. It takes two arguments: the source directory path and the destination directory path. If the destination directory already exists, an error will be raised.\n",
    "\n",
    "2. What function is used to rename files??\n",
    "The os.rename() function is used to rename files in Python. It takes two arguments: the current file name (including the path) and the new file name (including the path). It can be used to rename both files and directories.\n",
    "\n",
    "3. What is the difference between the delete functions in the send2trash and shutil modules?\n",
    "The delete functions in the send2trash and shutil modules have differences in their behavior:\n",
    "\n",
    "The send2trash.send2trash() function moves the specified file or directory to the recycle bin or trash instead of permanently deleting it. It provides a safe way to delete files and directories, allowing the possibility of recovery if needed.\n",
    "\n",
    "The shutil.rmtree() function in the shutil module, when called with a directory path, recursively deletes the entire directory tree, permanently removing all files and subdirectories within it. It does not move the deleted items to the recycle bin or trash, and they cannot be easily recovered.\n",
    "\n",
    "4. ZipFile objects have a close() method just like File objects’ close() method. What ZipFile method is equivalent to File objects’ open() method?\n",
    "The equivalent method in ZipFile objects to File objects' open() method is ZipFile.extract(). It is used to extract files from a zip archive. It takes the name of the file to be extracted as an argument and returns the absolute path of the extracted file.\n",
    "\n"
   ]
  },
  {
   "cell_type": "code",
   "execution_count": 2,
   "id": "c2742b4b",
   "metadata": {},
   "outputs": [],
   "source": [
    "#5. Create a programme that searches a folder tree for files with a certain file extension (such as .pdf or .jpg). Copy these files from whatever location they are in to a new folder.\n",
    "import os\n",
    "import shutil\n",
    "\n",
    "def search_and_copy_files(source_folder, target_folder, extension):\n",
    "    for root, dirs, files in os.walk(source_folder):\n",
    "        for file in files:\n",
    "            if file.endswith(extension):\n",
    "                source_file = os.path.join(root, file)\n",
    "                target_file = os.path.join(target_folder, file)\n",
    "                shutil.copy2(source_file, target_file)\n",
    "                print(f\"Copied {source_file} to {target_file}\")\n",
    "\n",
    "# Example usage\n",
    "source_folder = \"/path/to/source/folder\"\n",
    "target_folder = \"/path/to/target/folder\"\n",
    "extension = \".pdf\"\n",
    "\n",
    "search_and_copy_files(source_folder, target_folder, extension)\n"
   ]
  },
  {
   "cell_type": "code",
   "execution_count": null,
   "id": "7d6ca9f1",
   "metadata": {},
   "outputs": [],
   "source": []
  }
 ],
 "metadata": {
  "kernelspec": {
   "display_name": "Python 3 (ipykernel)",
   "language": "python",
   "name": "python3"
  },
  "language_info": {
   "codemirror_mode": {
    "name": "ipython",
    "version": 3
   },
   "file_extension": ".py",
   "mimetype": "text/x-python",
   "name": "python",
   "nbconvert_exporter": "python",
   "pygments_lexer": "ipython3",
   "version": "3.10.9"
  }
 },
 "nbformat": 4,
 "nbformat_minor": 5
}
