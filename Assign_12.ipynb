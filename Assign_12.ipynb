{
 "cells": [
  {
   "cell_type": "markdown",
   "id": "597a073a",
   "metadata": {},
   "source": [
    "1. In what modes should the PdfFileReader() and PdfFileWriter() File objects will be opened?\n",
    "When using the PdfFileReader() and PdfFileWriter() functions from the PyPDF2 library to work with PDF files, the File objects should be opened in the following modes:\n",
    "\n",
    "PdfFileReader(): The File object representing the PDF file should be opened in binary mode using \"rb\" (read binary) mode.\n",
    "PdfFileWriter(): The File object representing the output PDF file should be opened in binary mode using \"wb\" (write binary) mode.\n",
    "\n",
    "2. From a PdfFileReader object, how do you get a Page object for page 5?\n",
    "To get a Page object for page 5 from a PdfFileReader object, you can use the getPage() method and pass the index of the page (starting from 0) as an argument. \n",
    "\n",
    "page_5 = pdf_reader.getPage(4)\n",
    "\n",
    "\n",
    "3. What PdfFileReader variable stores the number of pages in the PDF document?\n",
    "The number of pages in a PDF document can be obtained using the numPages attribute of the PdfFileReader object. Here's an example:\n",
    "num_pages = pdf_reader.numPages\n",
    "\n",
    "\n",
    "4. If a PdfFileReader object’s PDF is encrypted with the password swordfish, what must you do before you can obtain Page objects from it?\n",
    "If a PdfFileReader object's PDF is encrypted with the password \"swordfish\", you need to call the decrypt() method on the object and pass the correct password as an argument before you can obtain Page objects from it. Here's an example:\n",
    "\n",
    "pdf_reader.decrypt('swordfish')\n",
    "\n",
    "\n",
    "\n",
    "5. What methods do you use to rotate a page?\n",
    "To rotate a page in PyPDF2, you can use the rotateClockwise() or rotateCounterClockwise() methods of the Page object. The rotateClockwise() method rotates the page clockwise by a specified angle (default is 90 degrees), while the rotateCounterClockwise() method rotates the page counter-clockwise. Here's an example:\n",
    "\n",
    "page.rotateClockwise(90)  # Rotate page 90 degrees clockwise\n",
    "\n",
    "\n",
    "6. What is the difference between a Run object and a Paragraph object?\n",
    "In the context of the python-docx library for working with Word documents:\n",
    "A Run object represents a contiguous run of text with the same character formatting within a paragraph. It can have specific character-level formatting applied, such as font, color, bold, italic, etc.\n",
    "A Paragraph object represents a paragraph of text. It contains one or more Run objects and can have paragraph-level formatting, such as alignment, indentation, spacing, and style.\n",
    "\n",
    "7. How do you obtain a list of Paragraph objects for a Document object that’s stored in a variable named doc?\n",
    "To obtain a list of Paragraph objects for a Document object stored in a variable named doc, you can access the paragraphs attribute of the Document object. Here's an example:\n",
    "paragraphs = doc.paragraphs\n",
    "\n",
    "8. What type of object has bold, underline, italic, strike, and outline variables?\n",
    "The Run object in the python-docx library has variables such as bold, underline, italic, strike, and outline. These variables represent different character-level formatting options.\n",
    "\n",
    "9. What is the difference between False, True, and None for the bold variable?\n",
    "In the context of the bold variable in the python-docx library:\n",
    "\n",
    "False: Indicates that the text is not bold.\n",
    "True: Indicates that the text is bold.\n",
    "None: Indicates that the text's bold formatting is inherited from the surrounding style or theme.\n",
    "\n",
    "10. How do you create a Document object for a new Word document?\n",
    "To create a Document object for a new Word document using the python-docx library, you can use the Document() constructor. Here's an example:\n",
    "\n",
    "from docx import Document\n",
    "\n",
    "doc = Document()\n",
    "\n",
    "\n",
    "11. How do you add a paragraph with the text &#39;Hello, there!&#39; to a Document object stored in a variable named doc?\n",
    "To add a paragraph with the text \"Hello, there!\" to a Document object stored in a variable named doc, you can use the add_paragraph() method. Here's an example:\n",
    "\n",
    "doc.add_paragraph('Hello, there!')\n",
    "\n",
    "\n",
    "12. What integers represent the levels of headings available in Word documents?\n",
    "\n",
    "In Word documents, the integer levels of headings (also known as heading styles) typically range from 1 to 9. These levels represent different levels of hierarchy or importance in the document's structure. The specific mapping of these levels to formatting styles can vary depending on the document's style settings and template."
   ]
  },
  {
   "cell_type": "code",
   "execution_count": null,
   "id": "4506ac6b",
   "metadata": {},
   "outputs": [],
   "source": [
    "\n"
   ]
  }
 ],
 "metadata": {
  "kernelspec": {
   "display_name": "Python 3 (ipykernel)",
   "language": "python",
   "name": "python3"
  },
  "language_info": {
   "codemirror_mode": {
    "name": "ipython",
    "version": 3
   },
   "file_extension": ".py",
   "mimetype": "text/x-python",
   "name": "python",
   "nbconvert_exporter": "python",
   "pygments_lexer": "ipython3",
   "version": "3.10.9"
  }
 },
 "nbformat": 4,
 "nbformat_minor": 5
}
