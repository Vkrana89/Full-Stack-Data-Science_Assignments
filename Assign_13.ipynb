{
 "cells": [
  {
   "cell_type": "markdown",
   "id": "b1d15c82",
   "metadata": {},
   "source": [
    "1. What advantages do Excel spreadsheets have over CSV spreadsheets?\n",
    "Excel spreadsheets have several advantages over CSV (Comma-Separated Values) spreadsheets:\n",
    "Excel spreadsheets can store not only simple tabular data but also complex data structures, formulas, macros, and formatting options like cell colors, fonts, borders, and conditional formatting. CSV, on the other hand, only stores plain text values and doesn't support such advanced features.\n",
    "Excel provides a graphical user interface that allows users to easily view, edit, and manipulate the data in a spreadsheet. It offers a range of functionalities like sorting, filtering, pivot tables, charts, and formulas, which are not available in a raw CSV file.\n",
    "Excel supports multiple worksheets within a single file, allowing you to organize and manage related data more efficiently. CSV files typically represent a single table of data and don't have the concept of multiple sheets.\n",
    "Excel files can be password-protected and encrypted, providing security for sensitive data. CSV files do not offer built-in encryption or password protection.\n",
    "Excel has extensive support and integration with other Microsoft Office products, such as Word and PowerPoint. It allows for seamless data exchange and integration between different Office applications.\n",
    "\n",
    "2. What do you pass to csv.reader() and csv.writer() to create reader and writer objects?\n",
    "To create reader and writer objects using the csv module, you pass a File object as the argument to csv.reader() and csv.writer(). Here's an example:\n",
    "\n",
    "import csv\n",
    "\n",
    "# Creating a reader object\n",
    "csv_file = open('data.csv', 'r')\n",
    "reader = csv.reader(csv_file)\n",
    "\n",
    "# Creating a writer object\n",
    "csv_file = open('output.csv', 'w')\n",
    "writer = csv.writer(csv_file)\n",
    "\n",
    "In the above code, csv_file represents the File object that is opened in the respective modes ('r' for reading and 'w' for writing). The csv.reader() function takes this File object as an argument to create a reader object, and csv.writer() function takes the File object to create a writer object.\n",
    "\n",
    "3. What modes do File objects for reader and writer objects need to be opened in?\n",
    "For reader objects, the File object needs to be opened in 'r' (read) mode. For writer objects, the File object needs to be opened in 'w' (write) mode. Example:\n",
    "\n",
    "csv_file = open('data.csv', 'r')     # Reader object - File opened in 'r' mode\n",
    "csv_file = open('output.csv', 'w')   # Writer object - File opened in 'w' mode\n",
    "\n",
    "\n",
    "4. What method takes a list argument and writes it to a CSV file?\n",
    "The writerow() method is used to write a list of values to a CSV file. It takes a list as an argument, where each element in the list represents a value for a respective column. Here's an example\n",
    "\n",
    "import csv\n",
    "\n",
    "csv_file = open('data.csv', 'w')\n",
    "writer = csv.writer(csv_file)\n",
    "\n",
    "row = ['John', 'Doe', '25']\n",
    "writer.writerow(row)\n",
    "\n",
    "csv_file.close()\n",
    "\n",
    "\n",
    "5. What do the keyword arguments delimiter and line terminator do?\n",
    "\n",
    "The keyword arguments delimiter and line terminator are used in the csv.writer() function to specify the delimiter character and the line terminator used in the CSV file.\n",
    "delimiter: It specifies the character used to separate values in a row. By default, it is set to a comma (,). You can change it to any other character as per your requirement.\n",
    "lineterminator: It specifies the character sequence used to terminate each line in the CSV file. By default, it uses the newline character ('\\n'). You can modify it if you want to use a different line terminator.\n",
    "\n",
    "\n",
    "6. What function takes a string of JSON data and returns a Python data structure?\n",
    "The json.loads() function is used to take a string of JSON data and convert it into a Python data structure. It parses the JSON string and returns the corresponding Python objects.\n",
    "\n",
    "7. What function takes a Python data structure and returns a string of JSON data?\n",
    "The json.dumps() function is used to take a Python data structure and convert it into a string of JSON data. It serializes the Python objects into a JSON-formatted string.\n"
   ]
  },
  {
   "cell_type": "code",
   "execution_count": null,
   "id": "3ba2784e",
   "metadata": {},
   "outputs": [],
   "source": [
    "\n"
   ]
  }
 ],
 "metadata": {
  "kernelspec": {
   "display_name": "Python 3 (ipykernel)",
   "language": "python",
   "name": "python3"
  },
  "language_info": {
   "codemirror_mode": {
    "name": "ipython",
    "version": 3
   },
   "file_extension": ".py",
   "mimetype": "text/x-python",
   "name": "python",
   "nbconvert_exporter": "python",
   "pygments_lexer": "ipython3",
   "version": "3.10.9"
  }
 },
 "nbformat": 4,
 "nbformat_minor": 5
}
