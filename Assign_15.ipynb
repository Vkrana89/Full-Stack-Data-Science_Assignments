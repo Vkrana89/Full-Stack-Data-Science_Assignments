{
 "cells": [
  {
   "cell_type": "markdown",
   "id": "8fdf53dd",
   "metadata": {},
   "source": [
    "1. How many seconds are in an hour? Use the interactive interpreter as a calculator and multiply the number of seconds in a minute (60) by the number of minutes in an hour (also 60).\n",
    "\n",
    "2. Assign the result from the previous task (seconds in an hour) to a variable called seconds_per_hour.\n",
    "3. How many seconds do you think there are in a day? Make use of the variables seconds per hour and minutes per hour.\n",
    "4. Calculate seconds per day again, but this time save the result in a variable called seconds_per_day\n",
    "5. Divide seconds_per_day by seconds_per_hour. Use floating-point (/) division.\n",
    "6. Divide seconds_per_day by seconds_per_hour, using integer (//) division. Did this number agree with the floating-point value from the previous question, aside from the final .0?\n",
    "7. Write a generator, genPrimes, that returns the sequence of prime numbers on successive calls to its next() method: 2, 3, 5, 7, 11, ..."
   ]
  },
  {
   "cell_type": "code",
   "execution_count": 5,
   "id": "14365d0f",
   "metadata": {},
   "outputs": [
    {
     "name": "stdout",
     "output_type": "stream",
     "text": [
      "3600\n"
     ]
    }
   ],
   "source": [
    "#1\n",
    "seconds_in_a_minute = 60\n",
    "minutes_in_an_hour = 60\n",
    "\n",
    "seconds_in_an_hour = seconds_in_a_minute * minutes_in_an_hour\n",
    "print(seconds_in_an_hour)\n"
   ]
  },
  {
   "cell_type": "code",
   "execution_count": 6,
   "id": "60299ffc",
   "metadata": {},
   "outputs": [
    {
     "name": "stdout",
     "output_type": "stream",
     "text": [
      "3600\n"
     ]
    }
   ],
   "source": [
    "#2\n",
    "seconds_per_hour = seconds_in_an_hour\n",
    "print(seconds_per_hour)\n"
   ]
  },
  {
   "cell_type": "code",
   "execution_count": 7,
   "id": "cf53b618",
   "metadata": {},
   "outputs": [
    {
     "name": "stdout",
     "output_type": "stream",
     "text": [
      "5184000\n"
     ]
    }
   ],
   "source": [
    "#3\n",
    "minutes_in_a_day = 24 * 60\n",
    "seconds_in_a_day = seconds_per_hour * minutes_in_a_day\n",
    "print(seconds_in_a_day)\n"
   ]
  },
  {
   "cell_type": "code",
   "execution_count": 8,
   "id": "e38363f3",
   "metadata": {},
   "outputs": [
    {
     "name": "stdout",
     "output_type": "stream",
     "text": [
      "5184000\n"
     ]
    }
   ],
   "source": [
    "#4\n",
    "seconds_per_day = seconds_in_a_day\n",
    "print(seconds_per_day)\n"
   ]
  },
  {
   "cell_type": "code",
   "execution_count": 9,
   "id": "13d5adf7",
   "metadata": {},
   "outputs": [
    {
     "name": "stdout",
     "output_type": "stream",
     "text": [
      "1440.0\n"
     ]
    }
   ],
   "source": [
    "#5\n",
    "ratio = seconds_per_day / seconds_per_hour\n",
    "print(ratio)\n"
   ]
  },
  {
   "cell_type": "code",
   "execution_count": 10,
   "id": "6c5f731a",
   "metadata": {},
   "outputs": [
    {
     "name": "stdout",
     "output_type": "stream",
     "text": [
      "1440\n"
     ]
    }
   ],
   "source": [
    "#6\n",
    "ratio = seconds_per_day // seconds_per_hour\n",
    "print(ratio)\n"
   ]
  },
  {
   "cell_type": "code",
   "execution_count": 11,
   "id": "0d0779ac",
   "metadata": {},
   "outputs": [
    {
     "name": "stdout",
     "output_type": "stream",
     "text": [
      "2\n",
      "3\n",
      "5\n",
      "7\n",
      "11\n"
     ]
    }
   ],
   "source": [
    "#7\n",
    "def genPrimes():\n",
    "    primes = []\n",
    "    num = 2\n",
    "\n",
    "    while True:\n",
    "        is_prime = True\n",
    "        for prime in primes:\n",
    "            if num % prime == 0:\n",
    "                is_prime = False\n",
    "                break\n",
    "        if is_prime:\n",
    "            primes.append(num)\n",
    "            yield num\n",
    "        num += 1\n",
    "\n",
    "# Example usage:\n",
    "prime_generator = genPrimes()\n",
    "print(next(prime_generator))  # Output: 2\n",
    "print(next(prime_generator))  # Output: 3\n",
    "print(next(prime_generator))  # Output: 5\n",
    "print(next(prime_generator))  # Output: 7\n",
    "print(next(prime_generator))  # Output: 11\n",
    "# and so on...\n"
   ]
  },
  {
   "cell_type": "code",
   "execution_count": null,
   "id": "c2da35f9",
   "metadata": {},
   "outputs": [],
   "source": []
  }
 ],
 "metadata": {
  "kernelspec": {
   "display_name": "Python 3 (ipykernel)",
   "language": "python",
   "name": "python3"
  },
  "language_info": {
   "codemirror_mode": {
    "name": "ipython",
    "version": 3
   },
   "file_extension": ".py",
   "mimetype": "text/x-python",
   "name": "python",
   "nbconvert_exporter": "python",
   "pygments_lexer": "ipython3",
   "version": "3.10.9"
  }
 },
 "nbformat": 4,
 "nbformat_minor": 5
}
