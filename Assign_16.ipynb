{
 "cells": [
  {
   "cell_type": "markdown",
   "id": "986fa0db",
   "metadata": {},
   "source": [
    "1. Create a list called years_list, starting with the year of your birth, and each year thereafter until\n",
    "the year of your fifth birthday. For example, if you were born in 1980. the list would be years_list =\n",
    "[1980, 1981, 1982, 1983, 1984, 1985].\n",
    "2. In which year in years_list was your third birthday? Remember, you were 0 years of age for your\n",
    "first year.\n",
    "3.In the years list, which year were you the oldest?\n",
    "4. Make a list called things with these three strings as elements: &quot;mozzarella&quot;, &quot;cinderella&quot;,\n",
    "&quot;salmonella&quot;.\n",
    "5. Capitalize the element in things that refers to a person and then print the list. Did it change the\n",
    "element in the list?\n",
    "6. Make a surprise list with the elements &quot;Groucho,&quot; &quot;Chico,&quot; and &quot;Harpo.&quot;\n",
    "7. Lowercase the last element of the surprise list, reverse it, and then capitalize it.\n",
    "8. Make an English-to-French dictionary called e2f and print it. Here are your starter words: dog is\n",
    "chien, cat is chat, and walrus is morse.\n",
    "9. Write the French word for walrus in your three-word dictionary e2f.\n",
    "10. Make a French-to-English dictionary called f2e from e2f. Use the items method.\n",
    "11. Print the English version of the French word chien using f2e.\n",
    "12. Make and print a set of English words from the keys in e2f.\n",
    "13. Make a multilevel dictionary called life. Use these strings for the topmost keys: &#39;animals&#39;, &#39;plants&#39;,\n",
    "and &#39;other&#39;. Make the &#39;animals&#39; key refer to another dictionary with the keys &#39;cats&#39;, &#39;octopi&#39;, and\n",
    "&#39;emus&#39;. Make the &#39;cats&#39; key refer to a list of strings with the values &#39;Henri&#39;, &#39;Grumpy&#39;, and &#39;Lucy&#39;.\n",
    "Make all the other keys refer to empty dictionaries.\n",
    "14. Print the top-level keys of life.\n",
    "15. Print the keys for life[&#39;animals&#39;].\n",
    "\n",
    "16. Print the values for life[&#39;animals&#39;][&#39;cats&#39;]"
   ]
  },
  {
   "cell_type": "code",
   "execution_count": 1,
   "id": "5311fe56",
   "metadata": {},
   "outputs": [
    {
     "name": "stdout",
     "output_type": "stream",
     "text": [
      "[1990, 1991, 1992, 1993, 1994, 1995]\n"
     ]
    }
   ],
   "source": [
    "#1\n",
    "years_list = [year for year in range(1990, 1996)]\n",
    "print(years_list)\n"
   ]
  },
  {
   "cell_type": "code",
   "execution_count": 2,
   "id": "2386dec7",
   "metadata": {},
   "outputs": [
    {
     "name": "stdout",
     "output_type": "stream",
     "text": [
      "1993\n"
     ]
    }
   ],
   "source": [
    "#2\n",
    "third_birthday_year = years_list[3]\n",
    "print(third_birthday_year)\n"
   ]
  },
  {
   "cell_type": "code",
   "execution_count": 3,
   "id": "98d967a4",
   "metadata": {},
   "outputs": [
    {
     "name": "stdout",
     "output_type": "stream",
     "text": [
      "1995\n"
     ]
    }
   ],
   "source": [
    "#3\n",
    "oldest_year = max(years_list)\n",
    "print(oldest_year)\n"
   ]
  },
  {
   "cell_type": "code",
   "execution_count": 4,
   "id": "98aa1e55",
   "metadata": {},
   "outputs": [
    {
     "name": "stdout",
     "output_type": "stream",
     "text": [
      "['mozzarella', 'cinderella', 'salmonella']\n"
     ]
    }
   ],
   "source": [
    "#4\n",
    "things = [\"mozzarella\", \"cinderella\", \"salmonella\"]\n",
    "print(things)\n"
   ]
  },
  {
   "cell_type": "code",
   "execution_count": 5,
   "id": "8ee87f1e",
   "metadata": {},
   "outputs": [
    {
     "name": "stdout",
     "output_type": "stream",
     "text": [
      "['mozzarella', 'Cinderella', 'salmonella']\n"
     ]
    }
   ],
   "source": [
    "#5\n",
    "things[1] = things[1].capitalize()\n",
    "print(things)\n"
   ]
  },
  {
   "cell_type": "code",
   "execution_count": 6,
   "id": "2bd046a3",
   "metadata": {},
   "outputs": [
    {
     "name": "stdout",
     "output_type": "stream",
     "text": [
      "['Groucho', 'Chico', 'Harpo']\n"
     ]
    }
   ],
   "source": [
    "#6\n",
    "surprise = [\"Groucho\", \"Chico\", \"Harpo\"]\n",
    "print(surprise)\n"
   ]
  },
  {
   "cell_type": "code",
   "execution_count": 7,
   "id": "f470f3d1",
   "metadata": {},
   "outputs": [
    {
     "name": "stdout",
     "output_type": "stream",
     "text": [
      "['Groucho', 'Chico', 'Oprah']\n"
     ]
    }
   ],
   "source": [
    "#7\n",
    "surprise[-1] = surprise[-1].lower()[::-1].capitalize()\n",
    "print(surprise)\n"
   ]
  },
  {
   "cell_type": "code",
   "execution_count": 8,
   "id": "2fa23b1b",
   "metadata": {},
   "outputs": [
    {
     "name": "stdout",
     "output_type": "stream",
     "text": [
      "{'dog': 'chien', 'cat': 'chat', 'walrus': 'morse'}\n"
     ]
    }
   ],
   "source": [
    "#8\n",
    "e2f = {\n",
    "    'dog': 'chien',\n",
    "    'cat': 'chat',\n",
    "    'walrus': 'morse'\n",
    "}\n",
    "print(e2f)\n"
   ]
  },
  {
   "cell_type": "code",
   "execution_count": 9,
   "id": "0108f94c",
   "metadata": {},
   "outputs": [
    {
     "name": "stdout",
     "output_type": "stream",
     "text": [
      "morse\n"
     ]
    }
   ],
   "source": [
    "#9\n",
    "french_word_for_walrus = e2f['walrus']\n",
    "print(french_word_for_walrus)\n"
   ]
  },
  {
   "cell_type": "code",
   "execution_count": 10,
   "id": "207fa458",
   "metadata": {},
   "outputs": [
    {
     "name": "stdout",
     "output_type": "stream",
     "text": [
      "{'chien': 'dog', 'chat': 'cat', 'morse': 'walrus'}\n"
     ]
    }
   ],
   "source": [
    "#10\n",
    "f2e = {value: key for key, value in e2f.items()}\n",
    "print(f2e)\n"
   ]
  },
  {
   "cell_type": "code",
   "execution_count": 11,
   "id": "aa752b1d",
   "metadata": {},
   "outputs": [
    {
     "name": "stdout",
     "output_type": "stream",
     "text": [
      "dog\n"
     ]
    }
   ],
   "source": [
    "#11\n",
    "english_word_for_chien = f2e['chien']\n",
    "print(english_word_for_chien)\n"
   ]
  },
  {
   "cell_type": "code",
   "execution_count": 12,
   "id": "ecf56d88",
   "metadata": {},
   "outputs": [
    {
     "name": "stdout",
     "output_type": "stream",
     "text": [
      "{'walrus', 'dog', 'cat'}\n"
     ]
    }
   ],
   "source": [
    "#12\n",
    "english_words = set(e2f.keys())\n",
    "print(english_words)\n"
   ]
  },
  {
   "cell_type": "code",
   "execution_count": 16,
   "id": "775b74f1",
   "metadata": {},
   "outputs": [],
   "source": [
    "#13\n",
    "life = {\n",
    "    'animals': {\n",
    "        'cats': ['Henri', 'Grumpy', 'Lucy'],\n",
    "        'octopi': {},\n",
    "        'emus': {}\n",
    "    },\n",
    "    'plants': {},\n",
    "    'other': {}\n",
    "}\n"
   ]
  },
  {
   "cell_type": "code",
   "execution_count": 19,
   "id": "fd3ca438",
   "metadata": {},
   "outputs": [
    {
     "name": "stdout",
     "output_type": "stream",
     "text": [
      "['animals', 'plants', 'other']\n"
     ]
    }
   ],
   "source": [
    "#14\n",
    "top_level_keys = life.keys()\n",
    "print(list(top_level_keys))\n"
   ]
  },
  {
   "cell_type": "code",
   "execution_count": 20,
   "id": "d5305db5",
   "metadata": {},
   "outputs": [
    {
     "name": "stdout",
     "output_type": "stream",
     "text": [
      "['cats', 'octopi', 'emus']\n"
     ]
    }
   ],
   "source": [
    "#15\n",
    "animal_keys = life['animals'].keys()\n",
    "print(list(animal_keys))\n"
   ]
  },
  {
   "cell_type": "code",
   "execution_count": 21,
   "id": "7b73e654",
   "metadata": {},
   "outputs": [
    {
     "name": "stdout",
     "output_type": "stream",
     "text": [
      "['Henri', 'Grumpy', 'Lucy']\n"
     ]
    }
   ],
   "source": [
    "#16\n",
    "cat_values = life['animals']['cats']\n",
    "print(cat_values)\n"
   ]
  },
  {
   "cell_type": "code",
   "execution_count": null,
   "id": "0c0a7415",
   "metadata": {},
   "outputs": [],
   "source": []
  }
 ],
 "metadata": {
  "kernelspec": {
   "display_name": "Python 3 (ipykernel)",
   "language": "python",
   "name": "python3"
  },
  "language_info": {
   "codemirror_mode": {
    "name": "ipython",
    "version": 3
   },
   "file_extension": ".py",
   "mimetype": "text/x-python",
   "name": "python",
   "nbconvert_exporter": "python",
   "pygments_lexer": "ipython3",
   "version": "3.10.9"
  }
 },
 "nbformat": 4,
 "nbformat_minor": 5
}
