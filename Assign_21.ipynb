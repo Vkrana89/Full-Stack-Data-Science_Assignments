{
 "cells": [
  {
   "cell_type": "code",
   "execution_count": null,
   "id": "3bacf955",
   "metadata": {},
   "outputs": [],
   "source": [
    "1. Add the current date to the text file today.txt as a string.\n",
    "2. Read the text file today.txt into the string today_string\n",
    "3. Parse the date from today_string.\n",
    "4. List the files in your current directory\n",
    "5. Create a list of all of the files in your parent directory (minimum five files should be available).\n",
    "6. Use multiprocessing to create three separate processes. Make each one wait a random number of\n",
    "seconds between one and five, print the current time, and then exit.\n",
    "7. Create a date object of your day of birth.\n",
    "8. What day of the week was your day of birth?\n",
    "9. When will you be (or when were you) 10,000 days old?"
   ]
  },
  {
   "cell_type": "code",
   "execution_count": 1,
   "id": "3a908aa4",
   "metadata": {},
   "outputs": [],
   "source": [
    "#1\n",
    "from datetime import date\n",
    "\n",
    "# Get the current date\n",
    "current_date = date.today()\n",
    "\n",
    "# Convert the date to a string\n",
    "date_string = str(current_date)\n",
    "\n",
    "# Write the date to the file\n",
    "with open('today.txt', 'w') as file:\n",
    "    file.write(date_string)\n"
   ]
  },
  {
   "cell_type": "code",
   "execution_count": 2,
   "id": "7ed6f9be",
   "metadata": {},
   "outputs": [],
   "source": [
    "#2\n",
    "with open('today.txt', 'r') as file:\n",
    "    today_string = file.read()\n"
   ]
  },
  {
   "cell_type": "code",
   "execution_count": 3,
   "id": "31cba6b9",
   "metadata": {},
   "outputs": [],
   "source": [
    "#3\n",
    "from datetime import datetime\n",
    "\n",
    "parsed_date = datetime.strptime(today_string, '%Y-%m-%d').date()\n"
   ]
  },
  {
   "cell_type": "code",
   "execution_count": 4,
   "id": "b92751af",
   "metadata": {},
   "outputs": [
    {
     "name": "stdout",
     "output_type": "stream",
     "text": [
      ".ipynb_checkpoints\n",
      "Assign_10.ipynb\n",
      "Assign_11.ipynb\n",
      "Assign_12.ipynb\n",
      "Assign_13.ipynb\n",
      "Assign_14.ipynb\n",
      "Assign_15.ipynb\n",
      "Assign_16.ipynb\n",
      "Assign_17.ipynb\n",
      "Assign_18.ipynb\n",
      "Assign_19.ipynb\n",
      "Assign_20.ipynb\n",
      "Assign_21.ipynb\n",
      "Assign_3.ipynb\n",
      "Assign_4.ipynb\n",
      "Assign_5.ipynb\n",
      "Assign_6.ipynb\n",
      "Assign_7.ipynb\n",
      "Assign_8.ipynb\n",
      "Assign_9.ipynb\n",
      "books.csv\n",
      "books.db\n",
      "Prog Assignment_1.ipynb\n",
      "Prog_Assignment_10.ipynb\n",
      "Prog_Assignment_11.ipynb\n",
      "Prog_Assignment_12.ipynb\n",
      "Prog_Assignment_13.ipynb\n",
      "Prog_Assignment_14.ipynb\n",
      "Prog_Assignment_15.ipynb\n",
      "Prog_Assignment_16.ipynb\n",
      "Prog_Assignment_17.ipynb\n",
      "Prog_Assignment_18.ipynb\n",
      "Prog_Assignment_19.ipynb\n",
      "Prog_Assignment_2.ipynb\n",
      "Prog_Assignment_20.ipynb\n",
      "Prog_Assignment_21.ipynb\n",
      "Prog_Assignment_22.ipynb\n",
      "Prog_Assignment_23.ipynb\n",
      "Prog_Assignment_24.ipynb\n",
      "Prog_Assignment_25.ipynb\n",
      "Prog_Assignment_3.ipynb\n",
      "Prog_Assignment_4.ipynb\n",
      "Prog_Assignment_5.ipynb\n",
      "Prog_Assignment_6.ipynb\n",
      "Prog_Assignment_7.ipynb\n",
      "Prog_Assignment_8.ipynb\n",
      "Prog_Assignment_9.ipynb\n",
      "test.txt\n",
      "today.txt\n",
      "Untitled.ipynb\n",
      "__pycache__\n"
     ]
    }
   ],
   "source": [
    "#4\n",
    "import os\n",
    "\n",
    "files = os.listdir('.')\n",
    "for file in files:\n",
    "    print(file)\n"
   ]
  },
  {
   "cell_type": "code",
   "execution_count": 5,
   "id": "01a772cd",
   "metadata": {},
   "outputs": [
    {
     "name": "stdout",
     "output_type": "stream",
     "text": [
      "[]\n"
     ]
    }
   ],
   "source": [
    "#5\n",
    "import os\n",
    "\n",
    "parent_directory = os.path.abspath('..')\n",
    "files = os.listdir(parent_directory)\n",
    "file_list = [file for file in files if os.path.isfile(os.path.join(parent_directory, file))]\n",
    "print(file_list)\n"
   ]
  },
  {
   "cell_type": "code",
   "execution_count": 6,
   "id": "4ed675f6",
   "metadata": {},
   "outputs": [],
   "source": [
    "#6\n",
    "import multiprocessing\n",
    "import random\n",
    "import time\n",
    "from datetime import datetime\n",
    "\n",
    "def worker():\n",
    "    wait_time = random.randint(1, 5)\n",
    "    time.sleep(wait_time)\n",
    "    current_time = datetime.now().strftime('%H:%M:%S')\n",
    "    print(f\"Current time: {current_time}\")\n",
    "    return\n",
    "\n",
    "if __name__ == '__main__':\n",
    "    processes = []\n",
    "    for _ in range(3):\n",
    "        p = multiprocessing.Process(target=worker)\n",
    "        p.start()\n",
    "        processes.append(p)\n",
    "\n",
    "    for p in processes:\n",
    "        p.join()\n"
   ]
  },
  {
   "cell_type": "code",
   "execution_count": 7,
   "id": "14be7b35",
   "metadata": {},
   "outputs": [],
   "source": [
    "#7\n",
    "from datetime import date\n",
    "\n",
    "birth_date = date(1990, 5, 15)\n"
   ]
  },
  {
   "cell_type": "code",
   "execution_count": 8,
   "id": "bcecd962",
   "metadata": {},
   "outputs": [
    {
     "name": "stdout",
     "output_type": "stream",
     "text": [
      "Tuesday\n"
     ]
    }
   ],
   "source": [
    "#8\n",
    "from datetime import date\n",
    "\n",
    "birth_date = date(1990, 5, 15)\n",
    "day_of_week = birth_date.strftime('%A')\n",
    "print(day_of_week)\n"
   ]
  },
  {
   "cell_type": "code",
   "execution_count": 9,
   "id": "ed189545",
   "metadata": {},
   "outputs": [
    {
     "name": "stdout",
     "output_type": "stream",
     "text": [
      "2017-09-30\n"
     ]
    }
   ],
   "source": [
    "#9\n",
    "from datetime import date, timedelta\n",
    "\n",
    "birth_date = date(1990, 5, 15)\n",
    "future_date = birth_date + timedelta(days=10000)\n",
    "print(future_date)\n"
   ]
  },
  {
   "cell_type": "code",
   "execution_count": null,
   "id": "a5a5f21b",
   "metadata": {},
   "outputs": [],
   "source": []
  }
 ],
 "metadata": {
  "kernelspec": {
   "display_name": "Python 3 (ipykernel)",
   "language": "python",
   "name": "python3"
  },
  "language_info": {
   "codemirror_mode": {
    "name": "ipython",
    "version": 3
   },
   "file_extension": ".py",
   "mimetype": "text/x-python",
   "name": "python",
   "nbconvert_exporter": "python",
   "pygments_lexer": "ipython3",
   "version": "3.10.9"
  }
 },
 "nbformat": 4,
 "nbformat_minor": 5
}
