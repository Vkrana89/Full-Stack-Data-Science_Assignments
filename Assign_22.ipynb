{
 "cells": [
  {
   "cell_type": "markdown",
   "id": "0c06f3b8",
   "metadata": {},
   "source": [
    "#1 \n",
    "iNeuron\n",
    "\n",
    "The code defines a variable X with the value 'iNeuron' outside the function func(). Inside the function, when func() is called, it prints the value of X, which is 'iNeuron' as it refers to the global variable X."
   ]
  },
  {
   "cell_type": "markdown",
   "id": "7a250430",
   "metadata": {},
   "source": [
    "#2\n",
    "iNeuron\n",
    "\n",
    "he code defines a variable X with the value 'iNeuron' outside the function func(). Inside the function, a new local variable X is defined with the value 'NI!'. When func() is called, it doesn't affect the global variable X. So, the print(X) statement outside the function will still print 'iNeuron'.\n"
   ]
  },
  {
   "cell_type": "markdown",
   "id": "3b35c4c3",
   "metadata": {},
   "source": [
    "#3\n",
    "NI\n",
    "iNeuron\n",
    "\n",
    "\n",
    "The code defines a variable X with the value 'iNeuron' outside the function func(). Inside the function, a new local variable X is defined with the value 'NI'. When func() is called, it prints the value of the local variable X, which is 'NI'. However, the global variable X remains unchanged, so when print(X) is called outside the function, it prints the value 'iNeuron'."
   ]
  },
  {
   "cell_type": "markdown",
   "id": "916741ac",
   "metadata": {},
   "source": [
    "#4\n",
    "NI\n",
    "\n",
    "\n",
    "The code defines a variable X with the value 'iNeuron' outside the function func(). Inside the function, the global keyword is used to indicate that the variable X refers to the global variable. Therefore, when func() is called and X is assigned the value 'NI', it updates the global variable X. So, when print(X) is called outside the function, it prints the updated value 'NI'."
   ]
  },
  {
   "cell_type": "markdown",
   "id": "92f0f417",
   "metadata": {},
   "source": [
    "#5\n",
    "NI\n",
    "\n",
    "\n",
    "The code defines a variable X with the value 'iNeuron' outside the function func(). Inside func(), a nested function nested() is defined. When nested() is called, it prints the value of X, which is the local variable in func(). So, it prints 'NI'."
   ]
  },
  {
   "cell_type": "markdown",
   "id": "a076a465",
   "metadata": {},
   "source": [
    "#6\n",
    "SyntaxError: no binding for nonlocal 'X' found\n",
    "\n",
    "\n",
    "In Python 3, the nonlocal keyword is used to indicate that a variable belongs to an enclosing (non-global) scope. However, in this code, the variable X is not defined in any enclosing scope, so the nonlocal statement raises a SyntaxError"
   ]
  },
  {
   "cell_type": "markdown",
   "id": "b9ba95a2",
   "metadata": {},
   "source": []
  },
  {
   "cell_type": "code",
   "execution_count": null,
   "id": "b9b67193",
   "metadata": {},
   "outputs": [],
   "source": []
  }
 ],
 "metadata": {
  "kernelspec": {
   "display_name": "Python 3 (ipykernel)",
   "language": "python",
   "name": "python3"
  },
  "language_info": {
   "codemirror_mode": {
    "name": "ipython",
    "version": 3
   },
   "file_extension": ".py",
   "mimetype": "text/x-python",
   "name": "python",
   "nbconvert_exporter": "python",
   "pygments_lexer": "ipython3",
   "version": "3.10.9"
  }
 },
 "nbformat": 4,
 "nbformat_minor": 5
}
