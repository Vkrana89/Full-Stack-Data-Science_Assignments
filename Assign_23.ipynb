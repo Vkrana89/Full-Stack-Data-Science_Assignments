{
 "cells": [
  {
   "cell_type": "code",
   "execution_count": null,
   "id": "3bacf955",
   "metadata": {},
   "outputs": [],
   "source": [
    "1. What is the result of the code, and why?\n",
    "&gt;&gt;&gt; def func(a, b=6, c=8):\n",
    "print(a, b, c)\n",
    "&gt;&gt;&gt; func(1, 2)\n",
    "2. What is the result of this code, and why?\n",
    "&gt;&gt;&gt; def func(a, b, c=5):\n",
    "print(a, b, c)\n",
    "&gt;&gt;&gt; func(1, c=3, b=2)\n",
    "3. How about this code: what is its result, and why?\n",
    "&gt;&gt;&gt; def func(a, *pargs):\n",
    "print(a, pargs)\n",
    "&gt;&gt;&gt; func(1, 2, 3)\n",
    "4. What does this code print, and why?\n",
    "&gt;&gt;&gt; def func(a, **kargs):\n",
    "print(a, kargs)\n",
    "&gt;&gt;&gt; func(a=1, c=3, b=2)\n",
    "5. What gets printed by this, and explain?\n",
    "&gt;&gt;&gt; def func(a, b, c=8, d=5): print(a, b, c, d)\n",
    "&gt;&gt;&gt; func(1, *(5, 6))\n",
    "6. what is the result of this, and explain?\n",
    "&gt;&gt;&gt; def func(a, b, c): a = 2; b[0] = &#39;x&#39;; c[&#39;a&#39;] = &#39;y&#39;\n",
    "&gt;&gt;&gt; l=1; m=[1]; n={&#39;a&#39;:0}\n",
    "&gt;&gt;&gt; func(l, m, n)\n",
    "\n",
    "&gt;&gt;&gt; l, m, n"
   ]
  },
  {
   "cell_type": "markdown",
   "id": "ba55359d",
   "metadata": {},
   "source": [
    "#1\n",
    "\n",
    "1 2 8\n",
    "The function func() is defined with three parameters a, b, and c. The parameter b and c have default values of 6 and 8, respectively. When the function is called with arguments 1 and 2, the value of 1 is assigned to a, and 2 is assigned to b (as the first positional argument). Since no value is provided for c, it takes its default value of 8. The function then prints 1 2 8."
   ]
  },
  {
   "cell_type": "markdown",
   "id": "2792b2fb",
   "metadata": {},
   "source": [
    "#2\n",
    "1 2 3\n",
    "\n",
    "The function func() is defined with three parameters a, b, and c. When the function is called with 1 as the first positional argument, 3 as the value for c, and 2 as the value for b, the function assigns 1 to a, 2 to b, and 3 to c. The function then prints 1 2 3."
   ]
  },
  {
   "cell_type": "markdown",
   "id": "b6a168d4",
   "metadata": {},
   "source": [
    "#3\n",
    "\n",
    "1 (2, 3)\n",
    "The function func() is defined with a parameter a and *pargs, which allows for any number of positional arguments to be passed as a tuple. When the function is called with arguments 1, 2, and 3, 1 is assigned to a, and (2, 3) is assigned to pargs as a tuple. The function then prints 1 and (2, 3)."
   ]
  },
  {
   "cell_type": "markdown",
   "id": "3ac547bc",
   "metadata": {},
   "source": [
    "#4\n",
    "\n",
    "1 {'c': 3, 'b': 2}\n",
    "\n",
    "The function func() is defined with a parameter a and **kargs, which allows for any number of keyword arguments to be passed as a dictionary. When the function is called with keyword arguments a=1, c=3, and b=2, 1 is assigned to a, and the keyword arguments c=3 and b=2 are assigned to kargs as a dictionary. The function then prints 1 and {'c': 3, 'b': 2}."
   ]
  },
  {
   "cell_type": "markdown",
   "id": "ce7899fb",
   "metadata": {},
   "source": [
    "#5\n",
    "TypeError: func() takes 3 positional arguments but 4 were given\n",
    "\n",
    "The function func() is defined with three parameters a, b, c, and no parameter to accept additional positional arguments. When the function is called with arguments 1 and (5, 6), it attempts to assign 1 to a, (5, 6) to b (as a single positional argument), and raises a TypeError because there are more positional arguments than there are parameters."
   ]
  },
  {
   "cell_type": "markdown",
   "id": "f0fd1b5f",
   "metadata": {},
   "source": [
    "#6\n",
    "1 ['x'] {'a': 'y'}\n",
    "\n",
    "The function func() is defined with three parameters a, b, and c. Inside the function, the value of a is reassigned to 2, the first element of the list b is modified to 'x', and the value associated with the key 'a' in the dictionary c is modified to 'y'. After calling the function with arguments l, m, and n, the values of l, m, and n are printed, which will be 1, ['x'], and {'a': 'y'} respectively. The function modifies the mutable objects m (list) and n (dictionary) in place, while l (integer) remains unchanged."
   ]
  },
  {
   "cell_type": "code",
   "execution_count": null,
   "id": "6b596573",
   "metadata": {},
   "outputs": [],
   "source": []
  },
  {
   "cell_type": "code",
   "execution_count": null,
   "id": "da3f8a00",
   "metadata": {},
   "outputs": [],
   "source": []
  },
  {
   "cell_type": "code",
   "execution_count": null,
   "id": "a0dc4e24",
   "metadata": {},
   "outputs": [],
   "source": []
  },
  {
   "cell_type": "code",
   "execution_count": null,
   "id": "c1f3ccee",
   "metadata": {},
   "outputs": [],
   "source": []
  }
 ],
 "metadata": {
  "kernelspec": {
   "display_name": "Python 3 (ipykernel)",
   "language": "python",
   "name": "python3"
  },
  "language_info": {
   "codemirror_mode": {
    "name": "ipython",
    "version": 3
   },
   "file_extension": ".py",
   "mimetype": "text/x-python",
   "name": "python",
   "nbconvert_exporter": "python",
   "pygments_lexer": "ipython3",
   "version": "3.10.9"
  }
 },
 "nbformat": 4,
 "nbformat_minor": 5
}
