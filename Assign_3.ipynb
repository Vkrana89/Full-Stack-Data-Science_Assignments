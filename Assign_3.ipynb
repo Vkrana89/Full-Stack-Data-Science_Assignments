{
 "cells": [
  {
   "cell_type": "markdown",
   "id": "5eeeccc0",
   "metadata": {},
   "source": [
    "\n",
    "1. Why are functions advantageous to have in your programs?\n",
    "Functions are advantageous to have in programs because they promote code reusability and modularity. \n",
    "They allow you to break down complex tasks into smaller, manageable units of code that can be easily understood, tested, and maintained. \n",
    "Functions also help in organizing code and improving its readability.\n",
    "\n",
    "\n",
    "2. When does the code in a function run: when its called?\n",
    "The code in a function runs when it is called. \n",
    "Functions are defined separately, but their code executes when the function is invoked by calling its name.    \n",
    "    \n",
    "    \n",
    "3. What statement creates a function?\n",
    "\n",
    "The def statement is used to create a function in Python. \n",
    "It is followed by the function name, a pair of parentheses that can contain optional parameters, and a colon. \n",
    "The indented block of code following the def statement defines the function's body.\n",
    "\n",
    "\n",
    "4. What is the difference between a function and a function call?\n",
    "A function is a named block of code that performs a specific task. It is defined separately and can be called multiple times throughout the program. A function call, on the other hand, is the act of executing the code inside a function at a particular point in the program by using the function's name followed by parentheses.\n",
    "\n",
    "5. How many global scopes are there in a Python program? How many local scopes?\n",
    "There is only one global scope in a Python program. It represents the top-level of the program and is accessible from anywhere within the program. Local scopes are created whenever a function is called, and they exist only during the execution of that function.\n",
    "\n",
    "\n",
    "6. What happens to variables in a local scope when the function call returns?\n",
    "When a function call returns, the variables in its local scope are destroyed, and the memory occupied by them is freed. The values assigned to those variables are no longer accessible or retained unless they are explicitly returned from the function.\n",
    "\n",
    "\n",
    "7. What is the concept of a return value? Is it possible to have a return value in an expression?\n",
    "The concept of a return value in a function is the value that is sent back from the function to the caller. It is used to provide the result or output of the function's computation. Yes, it is possible to have a return value in an expression, which means the return value can be directly used or assigned in an expression.\n",
    "\n",
    "\n",
    "8. If a function does not have a return statement, what is the return value of a call to that function?\n",
    "If a function does not have a return statement, the return value of a call to that function is None. None is a special Python object that represents the absence of a value or the lack of a return value.\n",
    "\n",
    "\n",
    "9. How do you make a function variable refer to the global variable?\n",
    "To make a function variable refer to the global variable, you can use the global keyword inside the function followed by the variable name. This allows the function to access and modify the global variable instead of creating a new local variable with the same name.\n",
    "\n",
    "\n",
    "10. What is the data type of None?\n",
    "The data type of None is NoneType. It is a built-in object in Python that represents the absence of a value or the lack of a return value.\n",
    "\n",
    "11. What does the sentence import areallyourpetsnamederic do?\n",
    "\n",
    "The sentence import areallyourpetsnamederic imports a module named areallyourpetsnamederic. This module can contain functions, variables, or other code that can be accessed and used in the program.\n",
    "\n",
    "\n",
    "12. If you had a bacon() feature in a spam module, what would you call it after importing spam?\n",
    "After importing the spam module, you can call the bacon() feature using the following syntax: spam.bacon(). The function bacon() is accessed using the module name followed by a dot operator.\n",
    "\n",
    "\n",
    "13. What can you do to save a programme from crashing if it encounters an error?\n",
    "To save a program from crashing if it encounters an error, you can use error handling techniques such as using the try and except clauses. By placing the potentially problematic code inside a try block and providing appropriate exception handling in the except block, you can catch and handle exceptions gracefully, preventing the program from abruptly terminating.\n",
    "\n",
    "14. What is the purpose of the try clause? What is the purpose of the except clause?\n",
    "\n",
    "The purpose of the try clause is to enclose a block of code that may raise an exception. It allows you to test for errors during the execution of that code. The except clause is used to specify the code that should be executed if a specific exception is raised within the corresponding try block. It provides a mechanism to handle exceptions and perform error recovery or alternative actions.\n"
   ]
  },
  {
   "cell_type": "markdown",
   "id": "793a51bd",
   "metadata": {},
   "source": []
  },
  {
   "cell_type": "code",
   "execution_count": null,
   "id": "dc7c06b9",
   "metadata": {},
   "outputs": [],
   "source": []
  },
  {
   "cell_type": "code",
   "execution_count": null,
   "id": "c74faae1",
   "metadata": {},
   "outputs": [],
   "source": []
  },
  {
   "cell_type": "code",
   "execution_count": null,
   "id": "a5f3bbbd",
   "metadata": {},
   "outputs": [],
   "source": []
  }
 ],
 "metadata": {
  "kernelspec": {
   "display_name": "Python 3 (ipykernel)",
   "language": "python",
   "name": "python3"
  },
  "language_info": {
   "codemirror_mode": {
    "name": "ipython",
    "version": 3
   },
   "file_extension": ".py",
   "mimetype": "text/x-python",
   "name": "python",
   "nbconvert_exporter": "python",
   "pygments_lexer": "ipython3",
   "version": "3.10.9"
  }
 },
 "nbformat": 4,
 "nbformat_minor": 5
}
