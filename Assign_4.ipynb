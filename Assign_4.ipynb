{
 "cells": [
  {
   "cell_type": "markdown",
   "id": "29d0cb5c",
   "metadata": {},
   "source": [
    "###\n",
    "1. What exactly is []?\n",
    "[] represents an empty list in Python. It is a data structure that can hold multiple values or elements, and it is mutable, meaning the elements can be added, removed, or modified.\n",
    "\n",
    "2. In a list of values stored in a variable called spam, how would you assign the value \"hello\"; as the third value? (Assume [2, 4, 6, 8, 10] are in spam.) Let's pretend the spam includes the list [\"a\", \"b\", \"c\",\"d\";] for the next three queries.\n",
    "\n",
    "To assign the value 'hello' as the third value in the list stored in the variable spam, you can use the index notation and assign the value directly: spam[2] = 'hello'. This will replace the third value (index 2) in the list.\n",
    "\n",
    "\n",
    "\n",
    "3. What is the value of spam[int(int(\"3\" * 2) / 11)]?\n",
    "The value of spam[int(int('3' * 2) / 11)] is 'd'. The expression '3' * 2 creates the string '33', which is then converted to an integer using int('33'). Dividing this by 11 results in 3, and accessing the element at index 3 in the list spam returns 'd'.\n",
    "\n",
    "4. What is the value of spam[-1]?\n",
    "The value of spam[-1] is 'd'. Using the negative index -1 refers to the last element in the list spam, which is 'd'.\n",
    "\n",
    "5. What is the value of spam[:2]? Let&#39;s pretend bacon has the list [3.14, &#39;cat,&#39; 11, &#39;cat,&#39; True] for the next three questions.\n",
    "The value of spam[:2] is ['a', 'b']. The slice notation [:2] retrieves the elements from the beginning of the list up to, but not including, index 2, resulting in a new list containing the first two elements.\n",
    "\n",
    "6. What is the value of bacon.index(&#39;cat&#39;)?\n",
    "The value of bacon.index('cat') is 1. The index() method returns the index of the first occurrence of the specified value in the list bacon.\n",
    "\n",
    "7. How does bacon.append(99) change the look of the list value in bacon?\n",
    "After bacon.append(99), the list bacon will have the value [3.14, 'cat', 11, 'cat', True, 99]. The append() method adds the specified element to the end of the list.\n",
    "\n",
    "8. How does bacon.remove(&#39;cat&#39;) change the look of the list in bacon?\n",
    "After bacon.remove('cat'), the list bacon will have the value [3.14, 11, 'cat', True]. The remove() method removes the first occurrence of the specified value from the list.\n",
    "\n",
    "9. What are the list concatenation and list replication operators?\n",
    "The list concatenation operator is +, which combines two lists into a single list. The list replication operator is *, which repeats a list a certain number of times, creating a new list with the repeated elements.\n",
    "\n",
    "\n",
    "10. What is difference between the list methods append() and insert()?\n",
    "The append() method adds a new element to the end of a list, whereas the insert() method allows you to insert an element at a specific index position in the list, shifting the existing elements to accommodate the new element.\n",
    "\n",
    "11. What are the two methods for removing items from a list?\n",
    "The two methods for removing items from a list are remove() and pop(). The remove() method removes the first occurrence of a specified value, and the pop() method removes an element at a specified index and returns its value.\n",
    "\n",
    "12. Describe how list values and string values are identical.\n",
    "List values and string values are identical in the sense that they can both contain multiple elements or characters. However, lists are mutable and can hold different data types, while strings are immutable and can only hold characters.\n",
    "\n",
    "13. What's the difference between tuples and lists?\n",
    "Tuples and lists are both data structures in Python, but they have some differences. Tuples are immutable, meaning their elements cannot be modified once defined, while lists are mutable. Tuples are typically used for grouping related values together, while lists are more flexible for storing and manipulating data.\n",
    "\n",
    "14. How do you type a tuple value that only contains the integer 42?\n",
    "To create a tuple value that only contains the integer 42, you can use parentheses: (42,). The comma is necessary to indicate that it is a tuple with a single element.\n",
    "\n",
    "15. How do you get a list value's tuple form? How do you get a tuple value&#39;s list form?\n",
    "To get a list value's tuple form, you can use the tuple() function, passing the list as an argument. For example, tuple([1, 2, 3]) returns (1, 2, 3). To get a tuple value's list form, you can use the list() function, passing the tuple as an argument. For example, list((1, 2, 3)) returns [1, 2, 3].\n",
    "\n",
    "16. Variables that &quot;contain&quot; list values are not necessarily lists themselves. Instead, what do they contain?\n",
    "Variables that \"contain\" list values actually contain references to the list objects. The variable itself does not store the list directly but holds a reference to the memory location where the list is stored. This allows multiple variables to refer to the same list and makes it possible to modify the list through any of those variables.\n",
    "\n",
    "17. How do you distinguish between copy.copy() and copy.deepcopy()?\n",
    "\n",
    "copy.copy() creates a shallow copy of an object, including any nested objects, but the references to those nested objects are still shared between the original and copied objects. copy.deepcopy() creates a deep copy of an object, recursively copying all the nested objects, so the copied object is completely independent of the original object."
   ]
  }
 ],
 "metadata": {
  "kernelspec": {
   "display_name": "Python 3 (ipykernel)",
   "language": "python",
   "name": "python3"
  },
  "language_info": {
   "codemirror_mode": {
    "name": "ipython",
    "version": 3
   },
   "file_extension": ".py",
   "mimetype": "text/x-python",
   "name": "python",
   "nbconvert_exporter": "python",
   "pygments_lexer": "ipython3",
   "version": "3.10.9"
  }
 },
 "nbformat": 4,
 "nbformat_minor": 5
}
