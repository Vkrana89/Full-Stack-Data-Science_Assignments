{
 "cells": [
  {
   "cell_type": "markdown",
   "id": "8d8b3b79",
   "metadata": {},
   "source": [
    "1. What does an empty dictionary's code look like?\n",
    "An empty dictionary's code looks like {}. It consists of curly braces with no key-value pairs inside.\n",
    "\n",
    "2. What is the value of a dictionary value with the key &#39;foo&#39; and the value 42?\n",
    "The value of a dictionary value with the key 'foo' and the value 42 would be 42. In Python, dictionary values can hold any type of data, including integers, strings, lists, or even other dictionaries.\n",
    "\n",
    "3. What is the most significant distinction between a dictionary and a list?\n",
    "The most significant distinction between a dictionary and a list is that a dictionary uses key-value pairs to store and retrieve data, while a list uses an ordered sequence of elements. In a dictionary, values are accessed by their associated keys, whereas in a list, elements are accessed by their indices.\n",
    "\n",
    "4. What happens if you try to access spam[\"foo\"] if spam is {\"bar\": 100}?\n",
    "If you try to access spam['foo'] and spam is { 'bar': 100 }, it will raise a KeyError because the key 'foo' does not exist in the dictionary spam.\n",
    "\n",
    "5. If a dictionary is stored in spam, what is the difference between the expressions &#39;cat&#39; in spam and &#39;cat&#39; in spam.keys()?\n",
    "If a dictionary is stored in spam, the expression 'cat' in spam checks if the key 'cat' exists in the dictionary. On the other hand, the expression 'cat' in spam.keys() also checks if the key 'cat' exists, but it explicitly looks for the key in the list of keys in the dictionary.\n",
    "\n",
    "6. If a dictionary is stored in spam, what is the difference between the expressions &#39;cat&#39; in spam and &#39;cat&#39; in spam.values()?\n",
    "If a dictionary is stored in spam, the expression 'cat' in spam checks if the value 'cat' exists in any of the dictionary's values. Conversely, the expression 'cat' in spam.values() checks if the value 'cat' exists in the list of values in the dictionary.\n",
    "\n",
    "7. What is a shortcut for the following code? if \"color\" not in spam:spam[\"color\"] = &#39;black&#39;\n",
    "A shortcut for the given code if 'color' not in spam: spam['color'] = 'black' is spam.setdefault('color', 'black'). The setdefault() method checks if a key exists in a dictionary and sets a default value if it does not exist.\n",
    "\n",
    "8. How do you &quot;pretty print&quot; dictionary values using which module and function?\n",
    "To \"pretty print\" dictionary values, you can use the pprint module in Python. The pprint module provides the pprint() function, which displays dictionary values in a more readable and formatted way. You can use it as pprint.pprint(dictionary) to print the dictionary values neatly.\n"
   ]
  }
 ],
 "metadata": {
  "kernelspec": {
   "display_name": "Python 3 (ipykernel)",
   "language": "python",
   "name": "python3"
  },
  "language_info": {
   "codemirror_mode": {
    "name": "ipython",
    "version": 3
   },
   "file_extension": ".py",
   "mimetype": "text/x-python",
   "name": "python",
   "nbconvert_exporter": "python",
   "pygments_lexer": "ipython3",
   "version": "3.10.9"
  }
 },
 "nbformat": 4,
 "nbformat_minor": 5
}
