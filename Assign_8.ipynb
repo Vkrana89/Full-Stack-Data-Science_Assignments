{
 "cells": [
  {
   "cell_type": "markdown",
   "id": "ec5d49e8",
   "metadata": {},
   "source": [
    "1. Is the Python Standard Library included with PyInputPlus?\n",
    "No, the Python Standard Library is not included with PyInputPlus. PyInputPlus is a separate third-party library that provides additional functionality for taking user input.\n",
    "\n",
    "2. Why is PyInputPlus commonly imported with import pyinputplus as pypi?\n",
    "PyInputPlus is commonly imported with the alias pypi to make the code shorter and more readable. It allows users to use a shorter alias instead of typing out the full module name every time they need to use a function from PyInputPlus.\n",
    "\n",
    "3. How do you distinguish between inputInt() and inputFloat()?\n",
    "inputInt() is used to specifically prompt the user for an integer input and returns an integer value. inputFloat() is used to prompt the user for a floating-point input and returns a float value.\n",
    "\n",
    "4. Using PyInputPlus, how do you ensure that the user enters a whole number between 0 and 99?\n",
    "Using PyInputPlus, you can ensure that the user enters a whole number between 0 and 99 by using the inputInt() function with the min and max keyword arguments set to 0 and 99, respectively. For example: number = pypi.inputInt(prompt=\"Enter a number:\", min=0, max=99).\n",
    "\n",
    "5. What is transferred to the keyword arguments allowRegexes and blockRegexes?\n",
    "The keyword arguments allowRegexes and blockRegexes in PyInputPlus are used to specify regular expressions that define patterns of text that are either allowed or blocked as user input. allowRegexes allows only inputs that match the specified regular expressions, while blockRegexes blocks inputs that match the specified regular expressions.\n",
    "\n",
    "6. If a blank input is entered three times, what does inputStr(limit=3) do?\n",
    "If a blank input is entered three times with inputStr(limit=3), the function will raise a ValidationException after the third attempt since it has reached the specified limit without receiving valid input.\n",
    "\n",
    "7. If blank input is entered three times, what does inputStr(limit=3, default=&#39;hello&#39;) do?\n",
    "If blank input is entered three times with inputStr(limit=3, default='hello'), the function will return the default value 'hello' after the third attempt, as it has reached the limit without receiving valid input."
   ]
  }
 ],
 "metadata": {
  "kernelspec": {
   "display_name": "Python 3 (ipykernel)",
   "language": "python",
   "name": "python3"
  },
  "language_info": {
   "codemirror_mode": {
    "name": "ipython",
    "version": 3
   },
   "file_extension": ".py",
   "mimetype": "text/x-python",
   "name": "python",
   "nbconvert_exporter": "python",
   "pygments_lexer": "ipython3",
   "version": "3.10.9"
  }
 },
 "nbformat": 4,
 "nbformat_minor": 5
}
