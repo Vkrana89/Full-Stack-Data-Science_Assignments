{
 "cells": [
  {
   "cell_type": "markdown",
   "id": "7fbb81a0",
   "metadata": {},
   "source": [
    "1. To what does a relative path refer?\n",
    "A relative path in Python refers to a file or directory location that is specified relative to the current working directory. It does not start with the root directory or a drive letter.\n",
    "\n",
    "2. What does an absolute path start with your operating system?\n",
    "An absolute path in Python, specific to the operating system, typically starts with a root directory or a drive letter. For example, in Windows, an absolute path might start with \"C:\", while in Unix-like systems, it might start with \"/\".\n",
    "\n",
    "3. What do the functions os.getcwd() and os.chdir() do?\n",
    " the os.getcwd() function returns the current working directory, which is the directory that the Python script is currently being executed from. The os.chdir() function is used to change the current working directory to the specified path.\n",
    "\n",
    "4. What are the . and .. folders?\n",
    "the . (dot) represents the current directory, and the .. (double dot) represents the parent directory. These are used to navigate within the directory structure. For example, if you are in the directory \"/home/user\" and you want to refer to a file in the parent directory, you can use \"..\" to navigate to \"/home\" and then access the file.\n",
    "\n",
    "5. In C:\\bacon\\eggs\\spam.txt, which part is the dir name, and which part is the base name?\n",
    "In the path \"C:\\bacon\\eggs\\spam.txt\", the directory name is \"C:\\bacon\\eggs\" and the base name is \"spam.txt\". The directory name refers to the path of the directory containing the file, and the base name refers to the actual file name.\n",
    "\n",
    "6. What are the three “mode” arguments that can be passed to the open() function?\n",
    "The three \"mode\" arguments that can be passed to the open() function in Python are:\n",
    "\n",
    "\"r\": Read mode. Opens a file for reading.\n",
    "\"w\": Write mode. Opens a file for writing. Creates a new file if it doesn't exist, or truncates the file if it does.\n",
    "\"a\": Append mode. Opens a file for appending. Data will be written to the end of the file.\n",
    "\n",
    "7. What happens if an existing file is opened in write mode?\n",
    "If an existing file is opened in write mode (\"w\"), the contents of the file will be completely overwritten. The file will be truncated to zero length before writing the new data. Care should be taken when using write mode to avoid accidentally losing data.\n",
    "\n",
    "\n",
    "\n",
    "8. How do you tell the difference between read() and readlines()?\n",
    "The read() method in Python is used to read the entire contents of a file as a single string. It returns the contents of the file as a string. On the other hand, the readlines() method is used to read the contents of a file and return a list of strings, where each string represents a line in the file. Each line includes the newline character at the end, except for the last line.\n",
    "\n",
    "\n",
    "9. What data structure does a shelf value resemble?\n",
    "A shelf value in Python resembles a dictionary data structure. It is an object that can be used to persistently store and retrieve Python objects, acting like a persistent dictionary. The values in a shelf can be stored and retrieved using keys, similar to how dictionaries work.\n",
    "\n"
   ]
  }
 ],
 "metadata": {
  "kernelspec": {
   "display_name": "Python 3 (ipykernel)",
   "language": "python",
   "name": "python3"
  },
  "language_info": {
   "codemirror_mode": {
    "name": "ipython",
    "version": 3
   },
   "file_extension": ".py",
   "mimetype": "text/x-python",
   "name": "python",
   "nbconvert_exporter": "python",
   "pygments_lexer": "ipython3",
   "version": "3.10.9"
  }
 },
 "nbformat": 4,
 "nbformat_minor": 5
}
