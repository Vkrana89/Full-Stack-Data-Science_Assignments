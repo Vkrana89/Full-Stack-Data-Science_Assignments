{
 "cells": [
  {
   "cell_type": "code",
   "execution_count": null,
   "id": "16e6c584",
   "metadata": {},
   "outputs": [],
   "source": [
    "# Question 1:In the below elements which of them are values or an expression? eg:- values can be integer or string and expressions will be mathematical operators.\n",
    "#Answer:     \n",
    "    \n",
    "#*   - Multliplication Mathematical Expression\n",
    "'hello' - String Value\n",
    "-87.8 - Integer Value\n",
    "-   - Subtraction Mathematical Expression\n",
    "/   - Division Mathematical Expression\n",
    "+   - Addition Mathematical Expression\n",
    "6   - Integer Value"
   ]
  },
  {
   "cell_type": "code",
   "execution_count": null,
   "id": "209f12d6",
   "metadata": {},
   "outputs": [],
   "source": [
    "#Question 2: What is the difference between string and variable?\n",
    "Answer: String is a Datatype and Variable is an information. We can store the string type data in a variable.\n",
    "    \n",
    "    E.g : A = \" This is my 1st Assignment\".\n",
    "        Here A is Variable \n",
    "         and \" This is my 1st Assignment\" is a string type data stored in a A variable.\n",
    "    \n",
    "    \n",
    "    "
   ]
  },
  {
   "cell_type": "code",
   "execution_count": null,
   "id": "b226749c",
   "metadata": {},
   "outputs": [],
   "source": [
    "#Question 3: Describe three different data types.\n",
    "Answer :\n",
    "    \n",
    "    3 different types of data types:\n",
    "        1. Integer, Float, Complex : These are numeric data types. Eg: Int : 5, Float : 5.0, Complex : 2 + 5j \n",
    "        2. String : In String datatypes we can put text. Eg : \" This is a String datatype\"\n",
    "        3. Boolean : True or False \n",
    "        "
   ]
  },
  {
   "cell_type": "code",
   "execution_count": null,
   "id": "9fa6a8b1",
   "metadata": {},
   "outputs": [],
   "source": [
    "#Question 4 :What is an expression made up of? What do all expressions do?\n",
    "Answer : \n",
    "    Expressions are made up of operators and operands.\n",
    "    All the expressions give us some value also you can say that expression combines values and operators and always evaluates it to a single value.\n",
    "    \n",
    "    for eg. a = 10\n",
    "            b = 5\n",
    "            a+b-5 = 10, This is an example of expression."
   ]
  },
  {
   "cell_type": "code",
   "execution_count": null,
   "id": "217e678c",
   "metadata": {},
   "outputs": [],
   "source": [
    "\n",
    "#Question 5: This assignment statements, like spam = 10. What is the difference between an expression and a statement?\n",
    "Ans : An expression is a combination of values,variable and operators which will always return some values\n",
    "eg . \n",
    "\n",
    "\"\"\"its an expression\"\"\"\n",
    "spam = 10, \n",
    "\n",
    "and\n",
    "\n",
    "\"\"\" this is a statement\"\"\"\n",
    "spam = 10 \n",
    "print(spam) \n",
    "\n",
    "\n",
    "A statement can also be an expression.\n",
    "\n"
   ]
  },
  {
   "cell_type": "code",
   "execution_count": null,
   "id": "59e5a197",
   "metadata": {},
   "outputs": [],
   "source": [
    "#Q. 6 After running the following code, what does the variable bacon contain?\n",
    "bacon = 22\n",
    "bacon + 1\n",
    "Ans"
   ]
  },
  {
   "cell_type": "code",
   "execution_count": 4,
   "id": "a97b1bc8",
   "metadata": {},
   "outputs": [
    {
     "data": {
      "text/plain": [
       "23"
      ]
     },
     "execution_count": 4,
     "metadata": {},
     "output_type": "execute_result"
    }
   ],
   "source": [
    "bacon = 22\n",
    "bacon +1 "
   ]
  },
  {
   "cell_type": "code",
   "execution_count": 5,
   "id": "bec745b2",
   "metadata": {},
   "outputs": [
    {
     "data": {
      "text/plain": [
       "22"
      ]
     },
     "execution_count": 5,
     "metadata": {},
     "output_type": "execute_result"
    }
   ],
   "source": [
    "bacon  # untill we assign a variable to bacon + 1 , bacon will store the value 22."
   ]
  },
  {
   "cell_type": "code",
   "execution_count": null,
   "id": "ac8db5e2",
   "metadata": {},
   "outputs": [],
   "source": [
    "#The value will be 22 only because we haven't declared any variable for bacon + 1. If bacon = bacon +1 we have declare then the value would be 23."
   ]
  },
  {
   "cell_type": "code",
   "execution_count": null,
   "id": "99e26311",
   "metadata": {},
   "outputs": [],
   "source": [
    "#Q7 .What should the values of the following two terms be?\n",
    "'spam' + 'spamspam'\n",
    "'spam' * 3\n",
    "Answer :"
   ]
  },
  {
   "cell_type": "code",
   "execution_count": 6,
   "id": "30778b6e",
   "metadata": {},
   "outputs": [
    {
     "data": {
      "text/plain": [
       "'spamspamspam'"
      ]
     },
     "execution_count": 6,
     "metadata": {},
     "output_type": "execute_result"
    }
   ],
   "source": [
    "'spam' + 'spamspam'  # concatination"
   ]
  },
  {
   "cell_type": "code",
   "execution_count": 7,
   "id": "4439878a",
   "metadata": {},
   "outputs": [
    {
     "data": {
      "text/plain": [
       "'spamspamspam'"
      ]
     },
     "execution_count": 7,
     "metadata": {},
     "output_type": "execute_result"
    }
   ],
   "source": [
    "'spam'*3   # Multiplication"
   ]
  },
  {
   "cell_type": "code",
   "execution_count": null,
   "id": "bc9457b4",
   "metadata": {},
   "outputs": [],
   "source": [
    "Q 8 . Why is eggs a valid variable name while 100 is invalid?\n",
    "\n",
    "Answer : Eggs is a valid name while 100 is invalied because the variable name should be names and 100 is a value.Variables are containers for values. They are not values in themselves. You cannot give a variable a name that is equal to a value. Variables cannot be strings, booleans, or any other data type\n",
    "eg : Below "
   ]
  },
  {
   "cell_type": "code",
   "execution_count": 6,
   "id": "0fe2f90b",
   "metadata": {},
   "outputs": [],
   "source": [
    "\"\"\" Eggs here is a variable name and 100 is a value\"\"\"\n",
    "eggs = 100 "
   ]
  },
  {
   "cell_type": "code",
   "execution_count": 2,
   "id": "711c76be",
   "metadata": {},
   "outputs": [
    {
     "ename": "SyntaxError",
     "evalue": "cannot assign to literal (1050658953.py, line 2)",
     "output_type": "error",
     "traceback": [
      "\u001b[1;36m  Input \u001b[1;32mIn [2]\u001b[1;36m\u001b[0m\n\u001b[1;33m    100 = b\u001b[0m\n\u001b[1;37m    ^\u001b[0m\n\u001b[1;31mSyntaxError\u001b[0m\u001b[1;31m:\u001b[0m cannot assign to literal\n"
     ]
    }
   ],
   "source": [
    "\"\"\"Here we have put a value as a variable \"\"\"\n",
    "100 = b"
   ]
  },
  {
   "cell_type": "code",
   "execution_count": null,
   "id": "4200e881",
   "metadata": {},
   "outputs": [],
   "source": [
    "#Q 9 . What three functions can be used to get the integer, floating-point number, or string version of a value?\n",
    "Answer :\n",
    "\n",
    "int() - for Integer version.\n",
    "float() - for floating version.\n",
    "str() - for string version of a value."
   ]
  },
  {
   "cell_type": "code",
   "execution_count": null,
   "id": "004d2f06",
   "metadata": {},
   "outputs": [],
   "source": [
    "#Q 10 . Why does this expression cause an error? How can you fix it?\n",
    "'I have eaten ' + 99 + ' burritos.'\n",
    "Ans : Here we have tried to concatenate integer with the string variable so that is why it is giving us an error. we need to change the data type of int to str by using the 99 in strings '99'. it will solve the error.\n",
    "\n",
    "below is an example: "
   ]
  },
  {
   "cell_type": "code",
   "execution_count": 8,
   "id": "a0a7ce56",
   "metadata": {},
   "outputs": [
    {
     "ename": "TypeError",
     "evalue": "can only concatenate str (not \"int\") to str",
     "output_type": "error",
     "traceback": [
      "\u001b[1;31m---------------------------------------------------------------------------\u001b[0m",
      "\u001b[1;31mTypeError\u001b[0m                                 Traceback (most recent call last)",
      "Input \u001b[1;32mIn [8]\u001b[0m, in \u001b[0;36m<cell line: 1>\u001b[1;34m()\u001b[0m\n\u001b[1;32m----> 1\u001b[0m \u001b[38;5;124;43m'\u001b[39;49m\u001b[38;5;124;43mI have eaten \u001b[39;49m\u001b[38;5;124;43m'\u001b[39;49m\u001b[43m \u001b[49m\u001b[38;5;241;43m+\u001b[39;49m\u001b[43m \u001b[49m\u001b[38;5;241;43m99\u001b[39;49m \u001b[38;5;241m+\u001b[39m \u001b[38;5;124m'\u001b[39m\u001b[38;5;124m burritos.\u001b[39m\u001b[38;5;124m'\u001b[39m\n",
      "\u001b[1;31mTypeError\u001b[0m: can only concatenate str (not \"int\") to str"
     ]
    }
   ],
   "source": [
    "'I have eaten ' + 99 + ' burritos.'"
   ]
  },
  {
   "cell_type": "code",
   "execution_count": 9,
   "id": "0e55762d",
   "metadata": {},
   "outputs": [
    {
     "data": {
      "text/plain": [
       "'I have eaten 99 burritos.'"
      ]
     },
     "execution_count": 9,
     "metadata": {},
     "output_type": "execute_result"
    }
   ],
   "source": [
    "'I have eaten ' + '99' + ' burritos.'"
   ]
  },
  {
   "cell_type": "code",
   "execution_count": null,
   "id": "15e47618",
   "metadata": {},
   "outputs": [],
   "source": []
  }
 ],
 "metadata": {
  "kernelspec": {
   "display_name": "Python 3 (ipykernel)",
   "language": "python",
   "name": "python3"
  },
  "language_info": {
   "codemirror_mode": {
    "name": "ipython",
    "version": 3
   },
   "file_extension": ".py",
   "mimetype": "text/x-python",
   "name": "python",
   "nbconvert_exporter": "python",
   "pygments_lexer": "ipython3",
   "version": "3.9.12"
  }
 },
 "nbformat": 4,
 "nbformat_minor": 5
}
